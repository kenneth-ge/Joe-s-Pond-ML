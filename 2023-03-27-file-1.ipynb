{
 "cells": [
  {
   "cell_type": "code",
   "execution_count": 2,
   "metadata": {
    "collapsed": false
   },
   "outputs": [
    {
     "name": "stdout",
     "output_type": "stream",
     "text": [
      "The nltk version is 3.5.\n",
      "The scikit-learn version is 1.2.2.\n"
     ]
    }
   ],
   "source": [
    "import nltk\n",
    "import sklearn\n",
    "\n",
    "print('The nltk version is {}.'.format(nltk.__version__))\n",
    "print('The scikit-learn version is {}.'.format(sklearn.__version__))"
   ]
  },
  {
   "cell_type": "code",
   "execution_count": 3,
   "metadata": {
    "collapsed": false
   },
   "outputs": [
   ],
   "source": [
    "import numpy as np\n",
    "import pandas as pd"
   ]
  },
  {
   "cell_type": "code",
   "execution_count": 4,
   "metadata": {
    "collapsed": false
   },
   "outputs": [
    {
     "data": {
      "text/html": [
       "<div>\n",
       "<style scoped>\n",
       "    .dataframe tbody tr th:only-of-type {\n",
       "        vertical-align: middle;\n",
       "    }\n",
       "\n",
       "    .dataframe tbody tr th {\n",
       "        vertical-align: top;\n",
       "    }\n",
       "\n",
       "    .dataframe thead th {\n",
       "        text-align: right;\n",
       "    }\n",
       "</style>\n",
       "<table border=\"1\" class=\"dataframe\">\n",
       "  <thead>\n",
       "    <tr style=\"text-align: right;\">\n",
       "      <th></th>\n",
       "      <th>Year</th>\n",
       "      <th>Day</th>\n",
       "      <th>Time</th>\n",
       "      <th>Days since 3/31</th>\n",
       "      <th>Unnamed: 4</th>\n",
       "      <th>Minutes since midnight on day</th>\n",
       "      <th>Minutes Formatted Number</th>\n",
       "      <th>Minutes since 3/31</th>\n",
       "      <th>Smoothed Global Average Temp of Previous Year (Climate Change Index)</th>\n",
       "    </tr>\n",
       "  </thead>\n",
       "  <tbody>\n",
       "    <tr>\n",
       "      <th>9</th>\n",
       "      <td>1997</td>\n",
       "      <td>5/1/97</td>\n",
       "      <td>7:43 a.m.</td>\n",
       "      <td>31.0</td>\n",
       "      <td>7:43:00</td>\n",
       "      <td>463:00:00</td>\n",
       "      <td>463.00</td>\n",
       "      <td>45,103.00</td>\n",
       "      <td>0.40</td>\n",
       "    </tr>\n",
       "    <tr>\n",
       "      <th>10</th>\n",
       "      <td>1998</td>\n",
       "      <td>4/16/98</td>\n",
       "      <td>6:41 p.m.</td>\n",
       "      <td>16.0</td>\n",
       "      <td>18:41:00</td>\n",
       "      <td>1121:00:00</td>\n",
       "      <td>1,121.00</td>\n",
       "      <td>24,161.00</td>\n",
       "      <td>0.42</td>\n",
       "    </tr>\n",
       "    <tr>\n",
       "      <th>11</th>\n",
       "      <td>1999</td>\n",
       "      <td>4/26/99</td>\n",
       "      <td>2:37 a.m.</td>\n",
       "      <td>26.0</td>\n",
       "      <td>2:37:00</td>\n",
       "      <td>157:00:00</td>\n",
       "      <td>157.00</td>\n",
       "      <td>37,597.00</td>\n",
       "      <td>0.44</td>\n",
       "    </tr>\n",
       "    <tr>\n",
       "      <th>12</th>\n",
       "      <td>2000</td>\n",
       "      <td>4/30/00</td>\n",
       "      <td>6:19 a.m.</td>\n",
       "      <td>30.0</td>\n",
       "      <td>6:19:00</td>\n",
       "      <td>379:00:00</td>\n",
       "      <td>379.00</td>\n",
       "      <td>43,579.00</td>\n",
       "      <td>0.47</td>\n",
       "    </tr>\n",
       "    <tr>\n",
       "      <th>13</th>\n",
       "      <td>2001</td>\n",
       "      <td>5/4/01</td>\n",
       "      <td>1:44 a.m.</td>\n",
       "      <td>34.0</td>\n",
       "      <td>1:44:00</td>\n",
       "      <td>104:00:00</td>\n",
       "      <td>104.00</td>\n",
       "      <td>49,064.00</td>\n",
       "      <td>0.50</td>\n",
       "    </tr>\n",
       "  </tbody>\n",
       "</table>\n",
       "</div>"
      ],
      "text/plain": [
       "    Year      Day       Time  Days since 3/31 Unnamed: 4  \\\n",
       "9   1997   5/1/97  7:43 a.m.             31.0    7:43:00   \n",
       "10  1998  4/16/98  6:41 p.m.             16.0   18:41:00   \n",
       "11  1999  4/26/99  2:37 a.m.             26.0    2:37:00   \n",
       "12  2000  4/30/00  6:19 a.m.             30.0    6:19:00   \n",
       "13  2001   5/4/01  1:44 a.m.             34.0    1:44:00   \n",
       "\n",
       "   Minutes since midnight on day Minutes Formatted Number Minutes since 3/31  \\\n",
       "9                      463:00:00                   463.00          45,103.00   \n",
       "10                    1121:00:00                 1,121.00          24,161.00   \n",
       "11                     157:00:00                   157.00          37,597.00   \n",
       "12                     379:00:00                   379.00          43,579.00   \n",
       "13                     104:00:00                   104.00          49,064.00   \n",
       "\n",
       "    Smoothed Global Average Temp of Previous Year (Climate Change Index)  \n",
       "9                                                0.40                     \n",
       "10                                               0.42                     \n",
       "11                                               0.44                     \n",
       "12                                               0.47                     \n",
       "13                                               0.50                     "
      ]
     },
     "execution_count": 4,
     "metadata": {
     },
     "output_type": "execute_result"
    }
   ],
   "source": [
    "df = pd.read_csv('data1.csv')\n",
    "df.drop(df.head(9).index,inplace=True)\n",
    "df.drop(df.tail(3).index,inplace=True)\n",
    "\n",
    "df.head()"
   ]
  },
  {
   "cell_type": "code",
   "execution_count": 5,
   "metadata": {
    "collapsed": false
   },
   "outputs": [
    {
     "name": "stdout",
     "output_type": "stream",
     "text": [
      "[45103.0 24161.0 37597.0 43579.0 49064.0 26898.0 40905.0 31165.0 31130.0\n",
      " 23960.0 45645.0 37045.0 30141.0 8086.0 40217.0 12565.0 35086.0 42366.0\n",
      " 42854.0 18304.0 34112.0 49647.0 36339.0 21967.0 15417.0 27651.0]\n"
     ]
    }
   ],
   "source": [
    "y = df['Minutes since 3/31'].to_numpy()\n",
    "\n",
    "for i in range(len(y)):\n",
    "    y[i] = float(y[i].replace(',', ''))\n",
    "print(y)"
   ]
  },
  {
   "cell_type": "code",
   "execution_count": 23,
   "metadata": {
    "collapsed": false
   },
   "outputs": [
    {
     "name": "stdout",
     "output_type": "stream",
     "text": [
      "   name    datetime  tempmax  tempmin  temp  feelslikemax  feelslikemin  \\\n",
      "0  5873  1997-01-01     11.7    -11.1  -0.4           8.0         -23.0   \n",
      "1  5873  1997-01-02     23.1     10.5  17.6          22.2          -1.4   \n",
      "2  5873  1997-01-03     32.1     22.2  28.0          28.9          17.0   \n",
      "3  5873  1997-01-04     33.9     27.7  30.1          31.9          24.2   \n",
      "4  5873  1997-01-05     40.8     33.9  37.0          40.8          22.2   \n",
      "\n",
      "   feelslike   dew  humidity  ...  solarenergy  uvindex  severerisk  \\\n",
      "0       -5.0  -9.1      67.0  ...          NaN      NaN         NaN   \n",
      "1       13.9  13.4      83.5  ...          NaN      NaN         NaN   \n",
      "2       25.3  26.7      94.9  ...          NaN      NaN         NaN   \n",
      "3       28.6  27.6      90.6  ...          NaN      NaN         NaN   \n",
      "4       31.1  34.6      91.0  ...          NaN      NaN         NaN   \n",
      "\n",
      "               sunrise               sunset  moonphase            conditions  \\\n",
      "0  1997-01-01T07:25:11  1997-01-01T16:20:09       0.75                 Clear   \n",
      "1  1997-01-02T07:25:13  1997-01-02T16:21:05       0.79        Snow, Overcast   \n",
      "2  1997-01-03T07:25:11  1997-01-03T16:22:02       0.82  Snow, Rain, Overcast   \n",
      "3  1997-01-04T07:25:08  1997-01-04T16:23:01       0.85  Snow, Rain, Overcast   \n",
      "4  1997-01-05T07:25:01  1997-01-05T16:24:01       0.89        Rain, Overcast   \n",
      "\n",
      "                                         description       icon  \\\n",
      "0               Clear conditions throughout the day.  clear-day   \n",
      "1         Cloudy skies throughout the day with snow.       snow   \n",
      "2  Cloudy skies throughout the day with a chance ...       rain   \n",
      "3  Cloudy skies throughout the day with rain or s...       rain   \n",
      "4         Cloudy skies throughout the day with rain.       rain   \n",
      "\n",
      "                  stations  \n",
      "0  72614594705,72617014742  \n",
      "1  72614594705,72617014742  \n",
      "2  72614594705,72617014742  \n",
      "3  72614594705,72617014742  \n",
      "4  72614594705,72617014742  \n",
      "\n",
      "[5 rows x 33 columns]\n"
     ]
    }
   ],
   "source": [
    "features = ['tempmax', 'visibility', 'feelslikemax']\n",
    "\n",
    "printed = False\n",
    "\n",
    "dfs = []\n",
    "# 1997 1988\n",
    "for i in range(1997, 2023 + 1):\n",
    "    df2 = pd.read_csv('weather/' + str(i) + '.csv')\n",
    "\n",
    "    if not printed:\n",
    "        print(df2.head())\n",
    "        printed = True\n",
    "\n",
    "    data = []\n",
    "\n",
    "    for f in features:\n",
    "        value = np.mean(df2[f])#[-30:])\n",
    "\n",
    "        if f == 'tempmax':\n",
    "            value -= 32\n",
    "            sign = np.sign(value)\n",
    "            value = abs(value)\n",
    "            value **= 1/2\n",
    "            value *= sign\n",
    "        data.append(value)\n",
    "\n",
    "        '''for j in range(60, 88):\n",
    "            value = df2[f][j]\n",
    "\n",
    "            if f == 'tempmax':\n",
    "                value -= 32\n",
    "                sign = np.sign(value)\n",
    "                value = abs(value)\n",
    "                value **= 1/2\n",
    "                value *= sign\n",
    "            data.append(value)'''\n",
    "\n",
    "    if i == 2023:\n",
    "        X_test = data\n",
    "    else:\n",
    "        dfs.append(data)"
   ]
  },
  {
   "cell_type": "code",
   "execution_count": 24,
   "metadata": {
    "collapsed": false
   },
   "outputs": [
    {
     "name": "stdout",
     "output_type": "stream",
     "text": [
      "(26, 3)\n"
     ]
    }
   ],
   "source": [
    "dfs = np.asarray(dfs)\n",
    "print(dfs.shape)"
   ]
  },
  {
   "cell_type": "code",
   "execution_count": 25,
   "metadata": {
    "collapsed": false
   },
   "outputs": [
    {
     "name": "stdout",
     "output_type": "stream",
     "text": [
      "-1.160938317817867,1.7240134054647644,0.40960685758148524,0.7631628806602061,-1.3844373104863463,1.8538248748645758,-0.9189365834726817,-1.7173964450442274,-1.319090595827294,1.4817407180595252,-1.5405626677721784,-0.4950302466061503,-1.1766241729815208,1.7159383568311664,-1.642153058233813,2.298590107765297,-0.802080627701065,-2.242270674512285,-2.5447112911989747,1.9823396100745023,1.108552609887726,0.8524474568362989,-1.587450786638753,1.7616176382225248,0.9201449161228198,0.4606758320361764,"
     ]
    }
   ],
   "source": [
    "for el in dfs:\n",
    "    print(el[0], end=',')\n",
    "    #for a in el:\n"
   ]
  },
  {
   "cell_type": "code",
   "execution_count": 26,
   "metadata": {
    "collapsed": false
   },
   "outputs": [
    {
     "name": "stdout",
     "output_type": "stream",
     "text": [
      "(26, 3)\n",
      "(26,)\n"
     ]
    }
   ],
   "source": [
    "X = np.array(dfs)\n",
    "\n",
    "from sklearn.linear_model import HuberRegressor, LinearRegression\n",
    "\n",
    "print(X.shape)\n",
    "print(y.shape)\n",
    "\n",
    "huber = HuberRegressor(max_iter=100).fit(X, y)"
   ]
  },
  {
   "cell_type": "code",
   "execution_count": 27,
   "metadata": {
    "collapsed": false
   },
   "outputs": [
   ],
   "source": [
    "from sklearn.model_selection import GridSearchCV"
   ]
  },
  {
   "cell_type": "code",
   "execution_count": 28,
   "metadata": {
    "collapsed": false,
    "scrolled": true
   },
   "outputs": [
    {
     "data": {
      "text/plain": [
       "['accuracy',\n",
       " 'adjusted_mutual_info_score',\n",
       " 'adjusted_rand_score',\n",
       " 'average_precision',\n",
       " 'balanced_accuracy',\n",
       " 'completeness_score',\n",
       " 'explained_variance',\n",
       " 'f1',\n",
       " 'f1_macro',\n",
       " 'f1_micro',\n",
       " 'f1_samples',\n",
       " 'f1_weighted',\n",
       " 'fowlkes_mallows_score',\n",
       " 'homogeneity_score',\n",
       " 'jaccard',\n",
       " 'jaccard_macro',\n",
       " 'jaccard_micro',\n",
       " 'jaccard_samples',\n",
       " 'jaccard_weighted',\n",
       " 'matthews_corrcoef',\n",
       " 'max_error',\n",
       " 'mutual_info_score',\n",
       " 'neg_brier_score',\n",
       " 'neg_log_loss',\n",
       " 'neg_mean_absolute_error',\n",
       " 'neg_mean_absolute_percentage_error',\n",
       " 'neg_mean_gamma_deviance',\n",
       " 'neg_mean_poisson_deviance',\n",
       " 'neg_mean_squared_error',\n",
       " 'neg_mean_squared_log_error',\n",
       " 'neg_median_absolute_error',\n",
       " 'neg_negative_likelihood_ratio',\n",
       " 'neg_root_mean_squared_error',\n",
       " 'normalized_mutual_info_score',\n",
       " 'positive_likelihood_ratio',\n",
       " 'precision',\n",
       " 'precision_macro',\n",
       " 'precision_micro',\n",
       " 'precision_samples',\n",
       " 'precision_weighted',\n",
       " 'r2',\n",
       " 'rand_score',\n",
       " 'recall',\n",
       " 'recall_macro',\n",
       " 'recall_micro',\n",
       " 'recall_samples',\n",
       " 'recall_weighted',\n",
       " 'roc_auc',\n",
       " 'roc_auc_ovo',\n",
       " 'roc_auc_ovo_weighted',\n",
       " 'roc_auc_ovr',\n",
       " 'roc_auc_ovr_weighted',\n",
       " 'top_k_accuracy',\n",
       " 'v_measure_score']"
      ]
     },
     "execution_count": 28,
     "metadata": {
     },
     "output_type": "execute_result"
    }
   ],
   "source": [
    "import sklearn\n",
    "\n",
    "sklearn.metrics.get_scorer_names()"
   ]
  },
  {
   "cell_type": "code",
   "execution_count": 29,
   "metadata": {
    "collapsed": false,
    "scrolled": true
   },
   "outputs": [
    {
     "data": {
      "text/plain": [
       "{'alpha': 0.01, 'epsilon': 3.75, 'max_iter': 100}"
      ]
     },
     "execution_count": 29,
     "metadata": {
     },
     "output_type": "execute_result"
    }
   ],
   "source": [
    "gs = GridSearchCV(estimator=huber,\n",
    "             param_grid=\n",
    "             {'epsilon': [1., 1.1, 1.35, 1.7, 2, 2.25, 2.5, 2.75, 3, 3.25, 3.5, 3.75],\n",
    "              'alpha': (1e-5, 5e-5, 1e-4, 5e-4, 1e-3, 1e-2),\n",
    "              'max_iter': (100,)\n",
    "             })\n",
    "\n",
    "gs.fit(X, y)\n",
    "gs.best_params_"
   ]
  },
  {
   "cell_type": "code",
   "execution_count": 35,
   "metadata": {
    "collapsed": false
   },
   "outputs": [
    {
     "name": "stdout",
     "output_type": "stream",
     "text": [
      "0.5419898124045186\n"
     ]
    },
    {
     "data": {
      "text/plain": [
       "array([0.19961344, 0.39123052, 0.34369605, 0.7433317 , 0.21508072])"
      ]
     },
     "execution_count": 35,
     "metadata": {
     },
     "output_type": "execute_result"
    }
   ],
   "source": [
    "from sklearn.model_selection import cross_val_score\n",
    "\n",
    "huber = HuberRegressor(alpha=0.01, epsilon=3.75, max_iter=100).fit(X, y)\n",
    "\n",
    "y_pred = huber.predict(X)\n",
    "\n",
    "from sklearn.metrics import r2_score\n",
    "\n",
    "print(r2_score(y, y_pred))\n",
    "\n",
    "cross_val_score(huber, X, y, scoring='r2')"
   ]
  },
  {
   "cell_type": "code",
   "execution_count": 36,
   "metadata": {
    "collapsed": false
   },
   "outputs": [
    {
     "name": "stdout",
     "output_type": "stream",
     "text": [
      "[24515.76415625]\n"
     ]
    }
   ],
   "source": [
    "minutes = huber.predict(np.array(X_test).reshape(1, -1))\n",
    "print(minutes)"
   ]
  },
  {
   "cell_type": "code",
   "execution_count": 37,
   "metadata": {
    "collapsed": false
   },
   "outputs": [
    {
     "name": "stdout",
     "output_type": "stream",
     "text": [
      "[17.02483622]\n"
     ]
    }
   ],
   "source": [
    "days = minutes / 24 / 60\n",
    "print(days)"
   ]
  },
  {
   "cell_type": "code",
   "execution_count": 38,
   "metadata": {
    "collapsed": false
   },
   "outputs": [
    {
     "name": "stdout",
     "output_type": "stream",
     "text": [
      "[0.59606927]\n"
     ]
    }
   ],
   "source": [
    "import math\n",
    "\n",
    "hour = 24 * (days - math.floor(days))\n",
    "print(hour)"
   ]
  },
  {
   "cell_type": "code",
   "execution_count": 34,
   "metadata": {
    "collapsed": false
   },
   "outputs": [
    {
     "name": "stdout",
     "output_type": "stream",
     "text": [
      "[1.7776388834631187, 8.242222222222223, 32.21666666666667]\n"
     ]
    }
   ],
   "source": [
    "print(X_test)"
   ]
  },
  {
   "cell_type": "code",
   "execution_count": 0,
   "metadata": {
    "collapsed": false
   },
   "outputs": [
   ],
   "source": [
   ]
  }
 ],
 "metadata": {
  "kernelspec": {
   "argv": [
    "/usr/bin/python3",
    "-m",
    "ipykernel",
    "--matplotlib=inline",
    "-c",
    "%config InlineBackend.figure_formats = set(['retina'])\nimport matplotlib; matplotlib.rcParams['figure.figsize'] = (12, 7)",
    "-f",
    "{connection_file}"
   ],
   "display_name": "Python 3 (system-wide)",
   "env": {
   },
   "language": "python",
   "metadata": {
    "cocalc": {
     "description": "Python 3 programming language",
     "priority": 100,
     "url": "https://www.python.org/"
    }
   },
   "name": "python3",
   "resource_dir": "/ext/jupyter/kernels/python3"
  },
  "language_info": {
   "codemirror_mode": {
    "name": "ipython",
    "version": 3
   },
   "file_extension": ".py",
   "mimetype": "text/x-python",
   "name": "python",
   "nbconvert_exporter": "python",
   "pygments_lexer": "ipython3",
   "version": "3.8.10"
  }
 },
 "nbformat": 4,
 "nbformat_minor": 4
}